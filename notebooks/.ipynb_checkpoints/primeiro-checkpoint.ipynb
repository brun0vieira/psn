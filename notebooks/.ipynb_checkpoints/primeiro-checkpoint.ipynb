{
 "cells": [
  {
   "cell_type": "code",
   "execution_count": 1,
   "id": "b0c4045f",
   "metadata": {},
   "outputs": [],
   "source": [
    "import pandas as pd\n",
    "import os"
   ]
  },
  {
   "cell_type": "code",
   "execution_count": 2,
   "id": "c8a2e50d",
   "metadata": {},
   "outputs": [],
   "source": [
    "path_data = 'C:\\\\Users\\\\utilizador\\\\Desktop\\\\21-22\\\\PSn\\\\data'\n",
    "path_municipios = os.path.join(path_data, 'municipios\\\\O seu município em números! ')\n",
    "path_nomes = os.path.join(path_data, 'nomes_municipios\\\\nomes.txt')"
   ]
  },
  {
   "cell_type": "code",
   "execution_count": 3,
   "id": "8a055e68",
   "metadata": {},
   "outputs": [],
   "source": [
    "f = open(path_nomes, 'r', encoding='utf8')\n",
    "municipios = f.readlines()\n",
    "f.close()"
   ]
  },
  {
   "cell_type": "code",
   "execution_count": 4,
   "id": "a1ff63cb",
   "metadata": {},
   "outputs": [],
   "source": [
    "def clean_dataframe(df):\n",
    "    df = df[6:78].reset_index(drop=True)\n",
    "    df = df.drop(['Unnamed: 2','Unnamed: 4','Unnamed: 5','Unnamed: 6'],axis=1)\n",
    "    df.iloc[0][0]='Ano'\n",
    "    df.columns=['Município']+df.iloc[1][1:].to_list()\n",
    "    df = df.drop(1)\n",
    "    df.transpose()\n",
    "    return df"
   ]
  },
  {
   "cell_type": "code",
   "execution_count": 11,
   "id": "e29d6556",
   "metadata": {},
   "outputs": [
    {
     "name": "stdout",
     "output_type": "stream",
     "text": [
      "             0                     2                   3   \\\n",
      "Município   Ano  População residente   Superfície em km2    \n",
      "Abrantes   2010                 39637                   0   \n",
      "Abrantes   2019                 35254                   0   \n",
      "\n",
      "                                4                                   5   \\\n",
      "Município  Densidade populacional   número médio de indivíduos por km2   \n",
      "Abrantes                         0                                 NaN   \n",
      "Abrantes                      49.3                                 NaN   \n",
      "\n",
      "                    6                 7                               8   \\\n",
      "Município  Jovens (%)   menos de 15 anos  População em idade activa (%)    \n",
      "Abrantes          12.8               NaN                            61.6   \n",
      "Abrantes          10.9               NaN                            60.3   \n",
      "\n",
      "                       9            10  ...                                62  \\\n",
      "Município  15 aos 64 anos  Idosos (%)   ...  Receitas da Câmara Municipal (8)   \n",
      "Abrantes              NaN         25.6  ...                           25909.4   \n",
      "Abrantes              NaN         28.8  ...                                 0   \n",
      "\n",
      "                    63                                     64           65  \\\n",
      "Município  €, milhares  Saldo financeiro da Câmara Municipal   €, milhares   \n",
      "Abrantes           NaN                                   1937          NaN   \n",
      "Abrantes           NaN                                      0          NaN   \n",
      "\n",
      "                                                          66  \\\n",
      "Município  Transferências recebidas no total das receitas...   \n",
      "Abrantes                                                63.8   \n",
      "Abrantes                                                   0   \n",
      "\n",
      "                                                          67  \\\n",
      "Município  Crimes registados pelas polícias por mil habit...   \n",
      "Abrantes                                                32.4   \n",
      "Abrantes                                                21.6   \n",
      "\n",
      "                                                          68  \\\n",
      "Município  Consumo de energia eléctrica por habitante (kWh)    \n",
      "Abrantes                                              4075.9   \n",
      "Abrantes                                                   0   \n",
      "\n",
      "                                                          69  \\\n",
      "Município  Resíduos urbanos recolhidos selectivamente por...   \n",
      "Abrantes                                                66.2   \n",
      "Abrantes                                                65.1   \n",
      "\n",
      "                                               70                          71  \n",
      "Município  Despesas do município em ambiente (%)   Alojamentos turísticos (6)  \n",
      "Abrantes                                        5                           4  \n",
      "Abrantes                                        0                          14  \n",
      "\n",
      "[3 rows x 71 columns]\n"
     ]
    }
   ],
   "source": [
    "df_total = clean_dataframe(pd.read_excel(path_municipios + municipios[0].strip() + '.xls'))\n",
    "\n",
    "for m in municipios[1:]:\n",
    "    df = pd.read_excel(path_municipios + m.strip() + '.xls')\n",
    "    df_clean = clean_dataframe(df).drop('Município')\n",
    "    #df_total = df_total.append(df_clean)"
   ]
  },
  {
   "cell_type": "code",
   "execution_count": null,
   "id": "e85def42",
   "metadata": {},
   "outputs": [],
   "source": [
    "print(df_total)"
   ]
  }
 ],
 "metadata": {
  "kernelspec": {
   "display_name": "Python 3",
   "language": "python",
   "name": "python3"
  },
  "language_info": {
   "codemirror_mode": {
    "name": "ipython",
    "version": 3
   },
   "file_extension": ".py",
   "mimetype": "text/x-python",
   "name": "python",
   "nbconvert_exporter": "python",
   "pygments_lexer": "ipython3",
   "version": "3.8.8"
  }
 },
 "nbformat": 4,
 "nbformat_minor": 5
}
