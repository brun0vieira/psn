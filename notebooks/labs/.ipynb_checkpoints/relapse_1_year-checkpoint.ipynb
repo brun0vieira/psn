{
 "cells": [
  {
   "cell_type": "markdown",
   "id": "ec6ec3b6",
   "metadata": {},
   "source": [
    "# Imports"
   ]
  },
  {
   "cell_type": "code",
   "execution_count": null,
   "id": "5d6ed131",
   "metadata": {},
   "outputs": [],
   "source": [
    "import pandas as pd\n",
    "import numpy as np"
   ]
  },
  {
   "cell_type": "markdown",
   "id": "2119d039",
   "metadata": {},
   "source": [
    "# Functions"
   ]
  },
  {
   "cell_type": "code",
   "execution_count": null,
   "id": "ba6b1011",
   "metadata": {},
   "outputs": [],
   "source": [
    "def excel_to_dataframe(filename):\n",
    "    df = pd.read_excel(filename, index_col=0)\n",
    "    return df"
   ]
  },
  {
   "cell_type": "code",
   "execution_count": null,
   "id": "763f03c5",
   "metadata": {},
   "outputs": [],
   "source": [
    "data = excel_to_dataframe()"
   ]
  },
  {
   "cell_type": "code",
   "execution_count": null,
   "id": "1cf78197",
   "metadata": {},
   "outputs": [],
   "source": [
    "died_LC = (data[(data.dead == 1) & (data.cause_death == 'Lung Cancer')].count()['dead'])\n",
    "relapse_not_LC = (data[(data.dead == 1) & (data.cause_death != 'Lung Cancer') & (data.time_relapse != -1)].count()['dead'])\n",
    "not_relapse_not_LC = (data[(data.dead == 1) & (data.cause_death != 'Lung Cancer') & (data.time_relapse == -1)].count()['dead'])\n",
    "alive = (data[data.dead == 0].count()['dead'])\n",
    "total = len(data.index)\n",
    "\n",
    "print('From total of ' + str(total) + ' patients:')\n",
    "print('\\n---> ' + str(alive) + ' | ' + str(round((alive/total)*100)) +'% are alive.')\n",
    "print('\\n---> ' + str(died_LC) + ' | ' + str(round((died_LC/total)*100)) +'% died from lung cancer.')\n",
    "print('\\n---> ' + str(relapse_not_LC) + '  | ' + str(round((relapse_not_LC/total)*100)) +'% died from another cause but relapsed.')\n",
    "print('\\n---> ' + str(not_relapse_not_LC) + ' | ' + str(round((not_relapse_not_LC/total)*100)) +'% died from another cause and didn´t relapsed.')"
   ]
  },
  {
   "cell_type": "code",
   "execution_count": null,
   "id": "95f76582",
   "metadata": {},
   "outputs": [],
   "source": [
    "#Deceased patients who did not relapse and die from other causes must be removed depending on the year being studied\n",
    "#data.drop(data[(data.dead == 1) & (data.causeDeath != 'Lung Cancer') & (data.time_relapse == -1)].index)"
   ]
  }
 ],
 "metadata": {
  "kernelspec": {
   "display_name": "Python 3",
   "language": "python",
   "name": "python3"
  },
  "language_info": {
   "codemirror_mode": {
    "name": "ipython",
    "version": 3
   },
   "file_extension": ".py",
   "mimetype": "text/x-python",
   "name": "python",
   "nbconvert_exporter": "python",
   "pygments_lexer": "ipython3",
   "version": "3.8.8"
  }
 },
 "nbformat": 4,
 "nbformat_minor": 5
}
