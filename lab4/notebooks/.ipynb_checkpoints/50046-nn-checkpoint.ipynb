{
 "cells": [
  {
   "cell_type": "code",
   "execution_count": 1,
   "id": "a99b5268",
   "metadata": {},
   "outputs": [],
   "source": [
    "import numpy as np\n",
    "import pandas as pd\n",
    "import math\n",
    "import matplotlib.pyplot as plt"
   ]
  },
  {
   "cell_type": "code",
   "execution_count": 2,
   "id": "ee138a86",
   "metadata": {},
   "outputs": [],
   "source": [
    "def update_weights(topology, weights):\n",
    "    j = 0\n",
    "    for i in range(len(weights)):\n",
    "        if j==3:\n",
    "            j=0\n",
    "        if i < 3: # w1x\n",
    "            topology[1][1][j][1] = weights[i]\n",
    "            j+=1\n",
    "        elif i < 6: #w2x\n",
    "            topology[2][1][j][1] = weights[i]\n",
    "            j+=1\n",
    "        elif i < 9: #w3x\n",
    "            topology[3][1][j][1] = weights[i]\n",
    "            j+=1\n",
    "\n",
    "def sigmoid(x):\n",
    "    sig = 1 / (1 + math.exp(-x))\n",
    "    return sig\n",
    "\n",
    "def update_input(topology, x, y, classe):\n",
    "    topology[0][1][0]=x\n",
    "    topology[0][1][1]=y\n",
    "    topology[0][1][2]=classe\n",
    "    \n",
    "def draw_plot(topology, out1, out2, classe, title):\n",
    "    \n",
    "    w0=topology[1][1][0][1]\n",
    "    w1=topology[1][1][1][1]\n",
    "    w2=topology[1][1][2][1]\n",
    "    y1 = (-w0-w1)/w2\n",
    "    y2 = (-w0)/w2\n",
    "    x  = [1, 0]\n",
    "    y  = [y1, y2]\n",
    "    plt.plot(x, y, color='purple')\n",
    "    \n",
    "    for i in range(len(out1)):\n",
    "        if classe[i] < 0.5:\n",
    "            color = 'blue'\n",
    "        else:\n",
    "            color = 'red'\n",
    "        plt.scatter(out1[i], out2[i], color=color,s=10)\n",
    "    \n",
    "    plt.title(title)\n",
    "    plt.xlabel('out1')\n",
    "    plt.ylabel('out2')\n",
    "    plt.grid()\n",
    "    plt.show()"
   ]
  },
  {
   "cell_type": "code",
   "execution_count": 3,
   "id": "8bfd689e",
   "metadata": {},
   "outputs": [
    {
     "name": "stderr",
     "output_type": "stream",
     "text": [
      "C:\\Users\\utilizador\\anaconda3\\lib\\site-packages\\openpyxl\\worksheet\\_reader.py:312: UserWarning: Unknown extension is not supported and will be removed\n",
      "  warn(msg)\n"
     ]
    }
   ],
   "source": [
    "df = pd.read_excel(r'C:/Users/utilizador/Documents/GitHub/psn/lab4/data/ct-21-22.xlsx')"
   ]
  },
  {
   "cell_type": "code",
   "execution_count": 4,
   "id": "f284febe",
   "metadata": {},
   "outputs": [
    {
     "data": {
      "text/html": [
       "<div>\n",
       "<style scoped>\n",
       "    .dataframe tbody tr th:only-of-type {\n",
       "        vertical-align: middle;\n",
       "    }\n",
       "\n",
       "    .dataframe tbody tr th {\n",
       "        vertical-align: top;\n",
       "    }\n",
       "\n",
       "    .dataframe thead th {\n",
       "        text-align: right;\n",
       "    }\n",
       "</style>\n",
       "<table border=\"1\" class=\"dataframe\">\n",
       "  <thead>\n",
       "    <tr style=\"text-align: right;\">\n",
       "      <th></th>\n",
       "      <th>x</th>\n",
       "      <th>y</th>\n",
       "      <th>classe</th>\n",
       "    </tr>\n",
       "  </thead>\n",
       "  <tbody>\n",
       "    <tr>\n",
       "      <th>0</th>\n",
       "      <td>-6.760254</td>\n",
       "      <td>-2.438752</td>\n",
       "      <td>0</td>\n",
       "    </tr>\n",
       "    <tr>\n",
       "      <th>1</th>\n",
       "      <td>0.237898</td>\n",
       "      <td>-8.227674</td>\n",
       "      <td>0</td>\n",
       "    </tr>\n",
       "    <tr>\n",
       "      <th>2</th>\n",
       "      <td>2.009494</td>\n",
       "      <td>0.624965</td>\n",
       "      <td>0</td>\n",
       "    </tr>\n",
       "    <tr>\n",
       "      <th>3</th>\n",
       "      <td>-9.850935</td>\n",
       "      <td>0.177774</td>\n",
       "      <td>0</td>\n",
       "    </tr>\n",
       "    <tr>\n",
       "      <th>4</th>\n",
       "      <td>-1.074828</td>\n",
       "      <td>-8.673791</td>\n",
       "      <td>0</td>\n",
       "    </tr>\n",
       "    <tr>\n",
       "      <th>5</th>\n",
       "      <td>-1.196868</td>\n",
       "      <td>8.340757</td>\n",
       "      <td>0</td>\n",
       "    </tr>\n",
       "    <tr>\n",
       "      <th>6</th>\n",
       "      <td>7.636788</td>\n",
       "      <td>9.787538</td>\n",
       "      <td>0</td>\n",
       "    </tr>\n",
       "    <tr>\n",
       "      <th>7</th>\n",
       "      <td>-0.631973</td>\n",
       "      <td>5.123220</td>\n",
       "      <td>0</td>\n",
       "    </tr>\n",
       "    <tr>\n",
       "      <th>8</th>\n",
       "      <td>-8.275424</td>\n",
       "      <td>-2.379850</td>\n",
       "      <td>0</td>\n",
       "    </tr>\n",
       "    <tr>\n",
       "      <th>9</th>\n",
       "      <td>-0.198645</td>\n",
       "      <td>-8.716467</td>\n",
       "      <td>0</td>\n",
       "    </tr>\n",
       "    <tr>\n",
       "      <th>10</th>\n",
       "      <td>-8.487350</td>\n",
       "      <td>-6.664567</td>\n",
       "      <td>0</td>\n",
       "    </tr>\n",
       "    <tr>\n",
       "      <th>11</th>\n",
       "      <td>4.282804</td>\n",
       "      <td>9.960295</td>\n",
       "      <td>0</td>\n",
       "    </tr>\n",
       "    <tr>\n",
       "      <th>12</th>\n",
       "      <td>0.695374</td>\n",
       "      <td>7.200536</td>\n",
       "      <td>0</td>\n",
       "    </tr>\n",
       "    <tr>\n",
       "      <th>13</th>\n",
       "      <td>-3.946296</td>\n",
       "      <td>-5.071599</td>\n",
       "      <td>0</td>\n",
       "    </tr>\n",
       "    <tr>\n",
       "      <th>14</th>\n",
       "      <td>1.854858</td>\n",
       "      <td>-3.647528</td>\n",
       "      <td>1</td>\n",
       "    </tr>\n",
       "    <tr>\n",
       "      <th>15</th>\n",
       "      <td>5.367410</td>\n",
       "      <td>-5.913742</td>\n",
       "      <td>1</td>\n",
       "    </tr>\n",
       "    <tr>\n",
       "      <th>16</th>\n",
       "      <td>1.592265</td>\n",
       "      <td>-0.535855</td>\n",
       "      <td>1</td>\n",
       "    </tr>\n",
       "    <tr>\n",
       "      <th>17</th>\n",
       "      <td>-0.889237</td>\n",
       "      <td>1.858760</td>\n",
       "      <td>1</td>\n",
       "    </tr>\n",
       "    <tr>\n",
       "      <th>18</th>\n",
       "      <td>8.591381</td>\n",
       "      <td>-8.970129</td>\n",
       "      <td>1</td>\n",
       "    </tr>\n",
       "    <tr>\n",
       "      <th>19</th>\n",
       "      <td>1.263323</td>\n",
       "      <td>-1.806635</td>\n",
       "      <td>1</td>\n",
       "    </tr>\n",
       "    <tr>\n",
       "      <th>20</th>\n",
       "      <td>-7.410348</td>\n",
       "      <td>5.641825</td>\n",
       "      <td>1</td>\n",
       "    </tr>\n",
       "  </tbody>\n",
       "</table>\n",
       "</div>"
      ],
      "text/plain": [
       "           x         y  classe\n",
       "0  -6.760254 -2.438752       0\n",
       "1   0.237898 -8.227674       0\n",
       "2   2.009494  0.624965       0\n",
       "3  -9.850935  0.177774       0\n",
       "4  -1.074828 -8.673791       0\n",
       "5  -1.196868  8.340757       0\n",
       "6   7.636788  9.787538       0\n",
       "7  -0.631973  5.123220       0\n",
       "8  -8.275424 -2.379850       0\n",
       "9  -0.198645 -8.716467       0\n",
       "10 -8.487350 -6.664567       0\n",
       "11  4.282804  9.960295       0\n",
       "12  0.695374  7.200536       0\n",
       "13 -3.946296 -5.071599       0\n",
       "14  1.854858 -3.647528       1\n",
       "15  5.367410 -5.913742       1\n",
       "16  1.592265 -0.535855       1\n",
       "17 -0.889237  1.858760       1\n",
       "18  8.591381 -8.970129       1\n",
       "19  1.263323 -1.806635       1\n",
       "20 -7.410348  5.641825       1"
      ]
     },
     "execution_count": 4,
     "metadata": {},
     "output_type": "execute_result"
    }
   ],
   "source": [
    "df"
   ]
  },
  {
   "cell_type": "code",
   "execution_count": 5,
   "id": "9a668df9",
   "metadata": {},
   "outputs": [
    {
     "data": {
      "text/plain": [
       "array([[-6.76025397,  0.23789822,  2.0094937 , -9.85093506, -1.074828  ,\n",
       "        -1.19686783,  7.63678818, -0.63197295, -8.2754244 , -0.19864485,\n",
       "        -8.48735019,  4.28280372,  0.69537397, -3.94629569,  1.85485846,\n",
       "         5.36741011,  1.59226476, -0.88923701,  8.59138084,  1.26332346,\n",
       "        -7.41034783],\n",
       "       [-2.43875235, -8.22767423,  0.62496517,  0.17777441, -8.673791  ,\n",
       "         8.34075721,  9.78753795,  5.12321978, -2.3798495 , -8.71646728,\n",
       "        -6.66456714,  9.9602949 ,  7.20053649, -5.0715989 , -3.64752792,\n",
       "        -5.91374189, -0.53585524,  1.85876023, -8.97012882, -1.80663509,\n",
       "         5.64182498],\n",
       "       [ 0.        ,  0.        ,  0.        ,  0.        ,  0.        ,\n",
       "         0.        ,  0.        ,  0.        ,  0.        ,  0.        ,\n",
       "         0.        ,  0.        ,  0.        ,  0.        ,  1.        ,\n",
       "         1.        ,  1.        ,  1.        ,  1.        ,  1.        ,\n",
       "         1.        ]])"
      ]
     },
     "execution_count": 5,
     "metadata": {},
     "output_type": "execute_result"
    }
   ],
   "source": [
    "training_data = np.array([df['x'], df['y'], df['classe']])\n",
    "training_data"
   ]
  },
  {
   "cell_type": "markdown",
   "id": "3bf100e9",
   "metadata": {},
   "source": [
    "def nn_topology(num_layers, nodes_per_layer, connections):\n",
    "    # to-do"
   ]
  },
  {
   "cell_type": "code",
   "execution_count": 6,
   "id": "57e08f56",
   "metadata": {},
   "outputs": [
    {
     "name": "stderr",
     "output_type": "stream",
     "text": [
      "<ipython-input-6-bd2f284901f8>:1: VisibleDeprecationWarning: Creating an ndarray from ragged nested sequences (which is a list-or-tuple of lists-or-tuples-or ndarrays with different lengths or shapes) is deprecated. If you meant to do this, you must specify 'dtype=object' when creating the ndarray.\n",
      "  topology = np.array([\n"
     ]
    }
   ],
   "source": [
    "topology = np.array([\n",
    "    [ 'input',\n",
    "        [\n",
    "            ['x', '-'],\n",
    "            ['y', '-'],\n",
    "            ['classe', '-']\n",
    "        ],    \n",
    "    ],\n",
    "    [ 'n1',\n",
    "        [\n",
    "            ['w10', 1],\n",
    "            ['w11', '-'],\n",
    "            ['w12', '-'],\n",
    "            0, # delta1   \n",
    "            0  # o1\n",
    "        ]\n",
    "    ],\n",
    "    [ 'n2',\n",
    "        [\n",
    "            ['w20', 1],\n",
    "            ['w21', '-'],\n",
    "            ['w22', '-'],\n",
    "            0, # delta2 \n",
    "            0  # o2\n",
    "        ]\n",
    "    ],\n",
    "    [ 'n3',\n",
    "        [\n",
    "            ['w30', 1],\n",
    "            ['w31', '-'],\n",
    "            ['w32', '-'],\n",
    "            0, # delta3\n",
    "            0  # o3\n",
    "        ]\n",
    "    ]\n",
    "])"
   ]
  },
  {
   "cell_type": "code",
   "execution_count": 7,
   "id": "5ffa7d4d",
   "metadata": {},
   "outputs": [
    {
     "name": "stdout",
     "output_type": "stream",
     "text": [
      "[['input' list([['x', '-'], ['y', '-'], ['classe', '-']])]\n",
      " ['n1' list([['w10', 1], ['w11', '-'], ['w12', '-'], 0, 0])]\n",
      " ['n2' list([['w20', 1], ['w21', '-'], ['w22', '-'], 0, 0])]\n",
      " ['n3' list([['w30', 1], ['w31', '-'], ['w32', '-'], 0, 0])]]\n"
     ]
    }
   ],
   "source": [
    "print(topology)"
   ]
  },
  {
   "cell_type": "code",
   "execution_count": 8,
   "id": "be2feb62",
   "metadata": {},
   "outputs": [
    {
     "name": "stdout",
     "output_type": "stream",
     "text": [
      "[['input' list([['x', '-'], ['y', '-'], ['classe', '-']])]\n",
      " ['n1' list([['w10', 0.4], ['w11', 1.4], ['w12', 1.0], 0, 0])]\n",
      " ['n2' list([['w20', -1.5], ['w21', 1], ['w22', -0.5], 0, 0])]\n",
      " ['n3' list([['w30', 5.4], ['w31', -8.0], ['w32', -10.0], 0, 0])]]\n"
     ]
    }
   ],
   "source": [
    "update_weights(topology, [0.4, 1.4, 1.0, -1.5, 1, -0.5, 5.4, -8.0, -10.0])\n",
    "print(topology)"
   ]
  },
  {
   "cell_type": "code",
   "execution_count": 9,
   "id": "5fd3ea26",
   "metadata": {},
   "outputs": [
    {
     "data": {
      "text/plain": [
       "array([[-6.76025397,  0.23789822,  2.0094937 , -9.85093506, -1.074828  ,\n",
       "        -1.19686783,  7.63678818, -0.63197295, -8.2754244 , -0.19864485,\n",
       "        -8.48735019,  4.28280372,  0.69537397, -3.94629569,  1.85485846,\n",
       "         5.36741011,  1.59226476, -0.88923701,  8.59138084,  1.26332346,\n",
       "        -7.41034783],\n",
       "       [-2.43875235, -8.22767423,  0.62496517,  0.17777441, -8.673791  ,\n",
       "         8.34075721,  9.78753795,  5.12321978, -2.3798495 , -8.71646728,\n",
       "        -6.66456714,  9.9602949 ,  7.20053649, -5.0715989 , -3.64752792,\n",
       "        -5.91374189, -0.53585524,  1.85876023, -8.97012882, -1.80663509,\n",
       "         5.64182498],\n",
       "       [ 0.        ,  0.        ,  0.        ,  0.        ,  0.        ,\n",
       "         0.        ,  0.        ,  0.        ,  0.        ,  0.        ,\n",
       "         0.        ,  0.        ,  0.        ,  0.        ,  1.        ,\n",
       "         1.        ,  1.        ,  1.        ,  1.        ,  1.        ,\n",
       "         1.        ]])"
      ]
     },
     "execution_count": 9,
     "metadata": {},
     "output_type": "execute_result"
    }
   ],
   "source": [
    "training_data"
   ]
  },
  {
   "cell_type": "code",
   "execution_count": 10,
   "id": "6c717d7d",
   "metadata": {
    "scrolled": true
   },
   "outputs": [
    {
     "name": "stdout",
     "output_type": "stream",
     "text": [
      "[['input' list([-6.760253967, -2.438752346, 0.0])]\n",
      " ['n1' list([['w10', 0.4], ['w11', 1.4], ['w12', 1.0], 0, 0])]\n",
      " ['n2' list([['w20', -1.5], ['w21', 1], ['w22', -0.5], 0, 0])]\n",
      " ['n3' list([['w30', 5.4], ['w31', -8.0], ['w32', -10.0], 0, 0])]]\n"
     ]
    }
   ],
   "source": [
    "update_input(topology, training_data[0][0], training_data[1][0], training_data[2][0])\n",
    "print(topology)"
   ]
  },
  {
   "cell_type": "code",
   "execution_count": 11,
   "id": "c83b1d04",
   "metadata": {},
   "outputs": [
    {
     "name": "stdout",
     "output_type": "stream",
     "text": [
      "sum1, sum2, sum3: \n",
      "[-11.503107899799998, -7.040877794000001, 5.3911732889439605]\n",
      "\n",
      "sig1, sig2, sig3: \n",
      "[1.0098557173726497e-05, 0.0008745922598650376, 0.9954640446810432]\n",
      "\n",
      "out1, out2, out3: \n",
      "[1.0098557173726497e-05, 0.0008745922598650376, 0.9954640446810432]\n",
      "\n",
      "delta1, delta2, delta3: \n",
      "[3.6313227823143915e-07, 3.9277655553302354e-05, -0.004494898864430347]\n"
     ]
    },
    {
     "name": "stderr",
     "output_type": "stream",
     "text": [
      "<ipython-input-11-48ceb34b5495>:18: VisibleDeprecationWarning: Creating an ndarray from ragged nested sequences (which is a list-or-tuple of lists-or-tuples-or ndarrays with different lengths or shapes) is deprecated. If you meant to do this, you must specify 'dtype=object' when creating the ndarray.\n",
      "  return np.array([['sums', [sum1, sum2, sum3]], ['sigmoids', [sig1, sig2, sig3]], ['outputs', [out1, out2, out3]],  ['deltas', [delta1, delta2, delta3]]])\n"
     ]
    }
   ],
   "source": [
    "def calculate_ssod(topology): # calculate sums, sigmoids, outputs and deltas\n",
    "    sum1 = 1*topology[1][1][0][1] + topology[0][1][0]*topology[1][1][1][1] + topology[0][1][1]*topology[1][1][2][1]\n",
    "    sig1 = sigmoid(sum1)\n",
    "    out1 = 1 / (1 + math.exp(-sum1))\n",
    "    \n",
    "    sum2 = 1*topology[2][1][0][1] + topology[0][1][0]*topology[2][1][1][1] + topology[0][1][1]*topology[2][1][2][1]\n",
    "    sig2 = sigmoid(sum2)\n",
    "    out2 = 1 / (1 + math.exp(-sum2))\n",
    "    \n",
    "    sum3 = 1*topology[3][1][0][1] + out1*topology[3][1][1][1] + out2*topology[3][1][2][1]\n",
    "    sig3 = sigmoid(sum3)\n",
    "    out3 = 1 / (1 + math.exp(-sum3))\n",
    "    \n",
    "    delta3 = out3*(1-out3)*(topology[0][1][2] - out3)\n",
    "    delta1 = out1*(1-out1)*topology[3][1][1][1]*delta3\n",
    "    delta2 = out2*(1-out2)*topology[3][1][2][1]*delta3\n",
    "    \n",
    "    return np.array([['sums', [sum1, sum2, sum3]], ['sigmoids', [sig1, sig2, sig3]], ['outputs', [out1, out2, out3]],  ['deltas', [delta1, delta2, delta3]]])\n",
    "\n",
    "backpropagation = calculate_ssod(topology)\n",
    "print('sum1, sum2, sum3: ')\n",
    "print(backpropagation[0][1])\n",
    "print('\\nsig1, sig2, sig3: ')\n",
    "print(backpropagation[1][1])\n",
    "print('\\nout1, out2, out3: ')\n",
    "print(backpropagation[2][1])\n",
    "print('\\ndelta1, delta2, delta3: ')\n",
    "print(backpropagation[3][1])\n",
    "\n"
   ]
  },
  {
   "cell_type": "code",
   "execution_count": 12,
   "id": "7a9e025c",
   "metadata": {},
   "outputs": [
    {
     "name": "stdout",
     "output_type": "stream",
     "text": [
      "topology:\n",
      "[['input' list([-6.760253967, -2.438752346, 0.0])]\n",
      " ['n1' list([['w10', 0.4], ['w11', 1.4], ['w12', 1.0], 0, 0])]\n",
      " ['n2' list([['w20', -1.5], ['w21', 1], ['w22', -0.5], 0, 0])]\n",
      " ['n3' list([['w30', 5.4], ['w31', -8.0], ['w32', -10.0], 0, 0])]]\n",
      "\n",
      "backpropagation:\n",
      "[['sums'\n",
      "  list([-11.503107899799998, -7.040877794000001, 5.3911732889439605])]\n",
      " ['sigmoids'\n",
      "  list([1.0098557173726497e-05, 0.0008745922598650376, 0.9954640446810432])]\n",
      " ['outputs'\n",
      "  list([1.0098557173726497e-05, 0.0008745922598650376, 0.9954640446810432])]\n",
      " ['deltas'\n",
      "  list([3.6313227823143915e-07, 3.9277655553302354e-05, -0.004494898864430347])]]\n"
     ]
    }
   ],
   "source": [
    "print('topology:')\n",
    "print(topology)\n",
    "print('\\nbackpropagation:')\n",
    "print(backpropagation)"
   ]
  },
  {
   "cell_type": "code",
   "execution_count": 13,
   "id": "753e1016",
   "metadata": {
    "scrolled": true
   },
   "outputs": [
    {
     "name": "stdout",
     "output_type": "stream",
     "text": [
      "[['input' list([-6.760253967, -2.438752346, 0.0])]\n",
      " ['n1'\n",
      "  list([['w10', 0.40000003631322784], ['w11', 1.3999997545133576], ['w12', 0.9999999114410305], 0, 0])]\n",
      " ['n2'\n",
      "  list([['w20', -1.4999960722344448], ['w21', 0.9999734473073232], ['w22', -0.5000095788474626], 0, 0])]\n",
      " ['n3'\n",
      "  list([['w30', 5.399550510113557], ['w31', -8.0000000045392], ['w32', -10.000000393120375], 0, 0])]]\n"
     ]
    }
   ],
   "source": [
    "def calculate_new_weights(topology, backpropagation, learning_factor):\n",
    "    for i in range(3):\n",
    "        for j in range(3):\n",
    "            if j == 0:\n",
    "                inputW=1\n",
    "            elif i==2: # no caso do 3º neuronio, o input é o out1 ou out2\n",
    "                inputW = backpropagation[2][1][j-1]\n",
    "            else:\n",
    "                inputW = topology[0][1][j-1]\n",
    "            topology[i+1][1][j][1] += learning_factor*backpropagation[3][1][i]*inputW\n",
    "\n",
    "calculate_new_weights(topology, backpropagation, 0.1)\n",
    "print(topology)"
   ]
  },
  {
   "cell_type": "code",
   "execution_count": 14,
   "id": "018fa59a",
   "metadata": {},
   "outputs": [
    {
     "name": "stdout",
     "output_type": "stream",
     "text": [
      "[['input' list([['x', '-'], ['y', '-'], ['classe', '-']])]\n",
      " ['n1' list([['w10', 0.4], ['w11', 1.4], ['w12', 1.0], 0, 0])]\n",
      " ['n2' list([['w20', -1.5], ['w21', 1], ['w22', -0.5], 0, 0])]\n",
      " ['n3' list([['w30', 5.4], ['w31', -8.0], ['w32', -10.0], 0, 0])]]\n"
     ]
    },
    {
     "name": "stderr",
     "output_type": "stream",
     "text": [
      "<ipython-input-14-2ac78c4af767>:2: VisibleDeprecationWarning: Creating an ndarray from ragged nested sequences (which is a list-or-tuple of lists-or-tuples-or ndarrays with different lengths or shapes) is deprecated. If you meant to do this, you must specify 'dtype=object' when creating the ndarray.\n",
      "  topology = np.array([\n"
     ]
    }
   ],
   "source": [
    "# reset à topologia\n",
    "topology = np.array([\n",
    "    [ 'input',\n",
    "        [\n",
    "            ['x', '-'],\n",
    "            ['y', '-'],\n",
    "            ['classe', '-']\n",
    "        ],    \n",
    "    ],\n",
    "    [ 'n1',\n",
    "        [\n",
    "            ['w10', 1],\n",
    "            ['w11', '-'],\n",
    "            ['w12', '-'],\n",
    "            0, # delta1   \n",
    "            0  # o1\n",
    "        ]\n",
    "    ],\n",
    "    [ 'n2',\n",
    "        [\n",
    "            ['w20', 1],\n",
    "            ['w21', '-'],\n",
    "            ['w22', '-'],\n",
    "            0, # delta2 \n",
    "            0  # o2\n",
    "        ]\n",
    "    ],\n",
    "    [ 'n3',\n",
    "        [\n",
    "            ['w30', 1],\n",
    "            ['w31', '-'],\n",
    "            ['w32', '-'],\n",
    "            0, # delta3\n",
    "            0  # o3\n",
    "        ]\n",
    "    ]\n",
    "])\n",
    "update_weights(topology, [0.4, 1.4, 1.0, -1.5, 1, -0.5, 5.4, -8.0, -10.0])\n",
    "print(topology)"
   ]
  },
  {
   "cell_type": "code",
   "execution_count": 15,
   "id": "653632ac",
   "metadata": {},
   "outputs": [
    {
     "name": "stdout",
     "output_type": "stream",
     "text": [
      "epoch:1\n",
      "epoch:2\n",
      "epoch:3\n",
      "epoch:4\n",
      "epoch:5\n",
      "epoch:6\n",
      "epoch:7\n",
      "epoch:8\n",
      "epoch:9\n",
      "epoch:10\n",
      "epoch:11\n",
      "epoch:12\n",
      "epoch:13\n",
      "epoch:14\n",
      "epoch:15\n",
      "epoch:16\n",
      "epoch:17\n",
      "epoch:18\n",
      "epoch:19\n",
      "epoch:20\n",
      "epoch:21\n",
      "epoch:22\n",
      "epoch:23\n",
      "epoch:24\n",
      "epoch:25\n",
      "epoch:26\n",
      "epoch:27\n",
      "epoch:28\n",
      "epoch:29\n",
      "epoch:30\n",
      "epoch:31\n",
      "epoch:32\n",
      "epoch:33\n",
      "epoch:34\n",
      "epoch:35\n",
      "epoch:36"
     ]
    },
    {
     "name": "stderr",
     "output_type": "stream",
     "text": [
      "<ipython-input-11-48ceb34b5495>:18: VisibleDeprecationWarning: Creating an ndarray from ragged nested sequences (which is a list-or-tuple of lists-or-tuples-or ndarrays with different lengths or shapes) is deprecated. If you meant to do this, you must specify 'dtype=object' when creating the ndarray.\n",
      "  return np.array([['sums', [sum1, sum2, sum3]], ['sigmoids', [sig1, sig2, sig3]], ['outputs', [out1, out2, out3]],  ['deltas', [delta1, delta2, delta3]]])\n"
     ]
    },
    {
     "name": "stdout",
     "output_type": "stream",
     "text": [
      "\n",
      "epoch:37\n",
      "epoch:38\n",
      "epoch:39\n",
      "epoch:40\n",
      "epoch:41\n",
      "epoch:42\n",
      "epoch:43\n",
      "epoch:44\n",
      "epoch:45\n",
      "epoch:46\n",
      "epoch:47\n",
      "epoch:48\n",
      "epoch:49\n",
      "epoch:50\n",
      "epoch:51\n",
      "epoch:52\n",
      "epoch:53\n",
      "epoch:54\n",
      "epoch:55\n",
      "epoch:56\n",
      "epoch:57\n",
      "epoch:58\n",
      "epoch:59\n",
      "epoch:60\n",
      "epoch:61\n",
      "epoch:62\n",
      "epoch:63\n",
      "epoch:64\n",
      "epoch:65\n",
      "epoch:66\n",
      "epoch:67\n",
      "epoch:68\n",
      "epoch:69\n",
      "epoch:70\n",
      "epoch:71\n",
      "epoch:72\n",
      "epoch:73\n",
      "epoch:74\n",
      "epoch:75\n",
      "epoch:76\n",
      "epoch:77\n",
      "epoch:78\n",
      "epoch:79\n",
      "epoch:80\n",
      "epoch:81\n",
      "epoch:82\n",
      "epoch:83\n",
      "epoch:84\n",
      "epoch:85\n",
      "epoch:86\n",
      "epoch:87\n",
      "epoch:88\n",
      "epoch:89\n",
      "epoch:90\n",
      "epoch:91\n",
      "epoch:92\n",
      "epoch:93\n",
      "epoch:94\n",
      "epoch:95\n",
      "epoch:96\n",
      "epoch:97\n",
      "epoch:98\n",
      "epoch:99\n",
      "epoch:100\n",
      "epoch:101\n",
      "epoch:102\n",
      "epoch:103\n",
      "epoch:104\n",
      "epoch:105\n",
      "epoch:106\n",
      "epoch:107\n",
      "epoch:108\n",
      "epoch:109\n",
      "epoch:110\n",
      "epoch:111\n",
      "epoch:112\n",
      "epoch:113\n",
      "epoch:114\n",
      "epoch:115\n",
      "epoch:116\n",
      "epoch:117\n",
      "epoch:118\n"
     ]
    }
   ],
   "source": [
    "epoch = 1\n",
    "error = 1\n",
    "topology_not_fitted = topology\n",
    "update_input(topology_not_fitted, training_data[0][0], training_data[1][0], training_data[2][0])\n",
    "out1_not_fitted = []\n",
    "out2_not_fitted = []\n",
    "out3_not_fitted = []\n",
    "\n",
    "while(error != 0):\n",
    "    error = 0\n",
    "    out1 = []\n",
    "    out2 = []\n",
    "    out3 = []\n",
    "    for i in range(len(training_data[0])):\n",
    "        \n",
    "        update_input(topology, training_data[0][i], training_data[1][i], training_data[2][i])\n",
    "        backpropagation = calculate_ssod(topology)\n",
    "        calculate_new_weights(topology, backpropagation, 0.1)\n",
    "\n",
    "        out1.append(backpropagation[2][1][0])\n",
    "        out2.append(backpropagation[2][1][1])\n",
    "        out3.append(backpropagation[2][1][2])\n",
    "            \n",
    "        if round(backpropagation[2][1][2]) != training_data[2][i]:\n",
    "            error = 1\n",
    "    \n",
    "    if epoch==1:\n",
    "        out1_not_fitted = out1\n",
    "        out2_not_fitted = out2\n",
    "        out3_not_fitted = out3\n",
    "        \n",
    "    print('epoch:' + str(epoch))\n",
    "    epoch += 1"
   ]
  },
  {
   "cell_type": "markdown",
   "id": "a89aa3c2",
   "metadata": {},
   "source": [
    "# VER MELHOR O MODELO NÃO TREINADO"
   ]
  },
  {
   "cell_type": "code",
   "execution_count": 16,
   "id": "2dbd590a",
   "metadata": {},
   "outputs": [
    {
     "data": {
      "image/png": "[encoded data removed]",
      "text/plain": [
       "<Figure size 432x288 with 1 Axes>"
      ]
     },
     "metadata": {
      "needs_background": "light"
     },
     "output_type": "display_data"
    },
    {
     "data": {
      "image/png": "[encoded data removed]",
      "text/plain": [
       "<Figure size 432x288 with 1 Axes>"
      ]
     },
     "metadata": {
      "needs_background": "light"
     },
     "output_type": "display_data"
    }
   ],
   "source": [
    "draw_plot(topology_not_fitted, out1_not_fitted, out2_not_fitted, out3_not_fitted, 'Modelo Não Treinado') \n",
    "draw_plot(topology, out1, out2, out3, 'Modelo Treinado (Erro zero)') "
   ]
  }
 ],
 "metadata": {
  "kernelspec": {
   "display_name": "Python 3",
   "language": "python",
   "name": "python3"
  },
  "language_info": {
   "codemirror_mode": {
    "name": "ipython",
    "version": 3
   },
   "file_extension": ".py",
   "mimetype": "text/x-python",
   "name": "python",
   "nbconvert_exporter": "python",
   "pygments_lexer": "ipython3",
   "version": "3.8.8"
  }
 },
 "nbformat": 4,
 "nbformat_minor": 5
}
