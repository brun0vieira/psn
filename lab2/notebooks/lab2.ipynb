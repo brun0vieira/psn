{
 "cells": [
  {
   "cell_type": "markdown",
   "id": "7c1dd077",
   "metadata": {},
   "source": [
    "# Bruno Vieira - 50046"
   ]
  },
  {
   "cell_type": "code",
   "execution_count": 1,
   "id": "68b1dac1",
   "metadata": {},
   "outputs": [],
   "source": [
    "import pandas as pd"
   ]
  },
  {
   "cell_type": "code",
   "execution_count": 2,
   "id": "7ffa2d02",
   "metadata": {},
   "outputs": [],
   "source": [
    "path = r'C:\\Users\\utilizador\\Desktop\\21-22\\PSn\\notebooks\\labs\\50046_data.csv'"
   ]
  },
  {
   "cell_type": "code",
   "execution_count": 3,
   "id": "f89dcd34",
   "metadata": {},
   "outputs": [],
   "source": [
    "df = pd.read_csv(path)"
   ]
  },
  {
   "cell_type": "code",
   "execution_count": 4,
   "id": "24695f51",
   "metadata": {},
   "outputs": [
    {
     "data": {
      "text/html": [
       "<div>\n",
       "<style scoped>\n",
       "    .dataframe tbody tr th:only-of-type {\n",
       "        vertical-align: middle;\n",
       "    }\n",
       "\n",
       "    .dataframe tbody tr th {\n",
       "        vertical-align: top;\n",
       "    }\n",
       "\n",
       "    .dataframe thead th {\n",
       "        text-align: right;\n",
       "    }\n",
       "</style>\n",
       "<table border=\"1\" class=\"dataframe\">\n",
       "  <thead>\n",
       "    <tr style=\"text-align: right;\">\n",
       "      <th></th>\n",
       "      <th>Doenca</th>\n",
       "      <th>Fumo</th>\n",
       "      <th>Falta de força</th>\n",
       "      <th>Dificuldade em pegar</th>\n",
       "    </tr>\n",
       "  </thead>\n",
       "  <tbody>\n",
       "    <tr>\n",
       "      <th>0</th>\n",
       "      <td>Eletrico</td>\n",
       "      <td>1</td>\n",
       "      <td>0</td>\n",
       "      <td>1</td>\n",
       "    </tr>\n",
       "    <tr>\n",
       "      <th>1</th>\n",
       "      <td>Injetores</td>\n",
       "      <td>1</td>\n",
       "      <td>1</td>\n",
       "      <td>0</td>\n",
       "    </tr>\n",
       "    <tr>\n",
       "      <th>2</th>\n",
       "      <td>Injetores</td>\n",
       "      <td>1</td>\n",
       "      <td>0</td>\n",
       "      <td>0</td>\n",
       "    </tr>\n",
       "    <tr>\n",
       "      <th>3</th>\n",
       "      <td>Pistons</td>\n",
       "      <td>1</td>\n",
       "      <td>1</td>\n",
       "      <td>0</td>\n",
       "    </tr>\n",
       "    <tr>\n",
       "      <th>4</th>\n",
       "      <td>Pistons</td>\n",
       "      <td>0</td>\n",
       "      <td>1</td>\n",
       "      <td>0</td>\n",
       "    </tr>\n",
       "    <tr>\n",
       "      <th>...</th>\n",
       "      <td>...</td>\n",
       "      <td>...</td>\n",
       "      <td>...</td>\n",
       "      <td>...</td>\n",
       "    </tr>\n",
       "    <tr>\n",
       "      <th>307</th>\n",
       "      <td>Injetores</td>\n",
       "      <td>1</td>\n",
       "      <td>0</td>\n",
       "      <td>0</td>\n",
       "    </tr>\n",
       "    <tr>\n",
       "      <th>308</th>\n",
       "      <td>Injetores</td>\n",
       "      <td>1</td>\n",
       "      <td>0</td>\n",
       "      <td>0</td>\n",
       "    </tr>\n",
       "    <tr>\n",
       "      <th>309</th>\n",
       "      <td>Injetores</td>\n",
       "      <td>1</td>\n",
       "      <td>0</td>\n",
       "      <td>0</td>\n",
       "    </tr>\n",
       "    <tr>\n",
       "      <th>310</th>\n",
       "      <td>Pistons</td>\n",
       "      <td>0</td>\n",
       "      <td>1</td>\n",
       "      <td>0</td>\n",
       "    </tr>\n",
       "    <tr>\n",
       "      <th>311</th>\n",
       "      <td>Pistons</td>\n",
       "      <td>1</td>\n",
       "      <td>1</td>\n",
       "      <td>1</td>\n",
       "    </tr>\n",
       "  </tbody>\n",
       "</table>\n",
       "<p>312 rows × 4 columns</p>\n",
       "</div>"
      ],
      "text/plain": [
       "        Doenca  Fumo  Falta de força  Dificuldade em pegar\n",
       "0     Eletrico     1               0                     1\n",
       "1    Injetores     1               1                     0\n",
       "2    Injetores     1               0                     0\n",
       "3      Pistons     1               1                     0\n",
       "4      Pistons     0               1                     0\n",
       "..         ...   ...             ...                   ...\n",
       "307  Injetores     1               0                     0\n",
       "308  Injetores     1               0                     0\n",
       "309  Injetores     1               0                     0\n",
       "310    Pistons     0               1                     0\n",
       "311    Pistons     1               1                     1\n",
       "\n",
       "[312 rows x 4 columns]"
      ]
     },
     "execution_count": 4,
     "metadata": {},
     "output_type": "execute_result"
    }
   ],
   "source": [
    "df"
   ]
  },
  {
   "cell_type": "code",
   "execution_count": 5,
   "id": "197546e0",
   "metadata": {},
   "outputs": [],
   "source": [
    "df['Doenca'] = df['Doenca'].apply(lambda x: 1 if x=='Injetores' else x)\n",
    "df['Doenca'] = df['Doenca'].apply(lambda x: 2 if x=='Pistons' else x)\n",
    "df['Doenca'] = df['Doenca'].apply(lambda x: 3 if x=='Eletrico' else x)\n",
    "df = df.rename(columns={'Doenca':'Avaria'})"
   ]
  },
  {
   "cell_type": "code",
   "execution_count": 6,
   "id": "98f608f1",
   "metadata": {},
   "outputs": [
    {
     "data": {
      "text/html": [
       "<div>\n",
       "<style scoped>\n",
       "    .dataframe tbody tr th:only-of-type {\n",
       "        vertical-align: middle;\n",
       "    }\n",
       "\n",
       "    .dataframe tbody tr th {\n",
       "        vertical-align: top;\n",
       "    }\n",
       "\n",
       "    .dataframe thead th {\n",
       "        text-align: right;\n",
       "    }\n",
       "</style>\n",
       "<table border=\"1\" class=\"dataframe\">\n",
       "  <thead>\n",
       "    <tr style=\"text-align: right;\">\n",
       "      <th></th>\n",
       "      <th>Avaria</th>\n",
       "      <th>Fumo</th>\n",
       "      <th>Falta de força</th>\n",
       "      <th>Dificuldade em pegar</th>\n",
       "    </tr>\n",
       "  </thead>\n",
       "  <tbody>\n",
       "    <tr>\n",
       "      <th>0</th>\n",
       "      <td>3</td>\n",
       "      <td>1</td>\n",
       "      <td>0</td>\n",
       "      <td>1</td>\n",
       "    </tr>\n",
       "    <tr>\n",
       "      <th>1</th>\n",
       "      <td>1</td>\n",
       "      <td>1</td>\n",
       "      <td>1</td>\n",
       "      <td>0</td>\n",
       "    </tr>\n",
       "    <tr>\n",
       "      <th>2</th>\n",
       "      <td>1</td>\n",
       "      <td>1</td>\n",
       "      <td>0</td>\n",
       "      <td>0</td>\n",
       "    </tr>\n",
       "    <tr>\n",
       "      <th>3</th>\n",
       "      <td>2</td>\n",
       "      <td>1</td>\n",
       "      <td>1</td>\n",
       "      <td>0</td>\n",
       "    </tr>\n",
       "    <tr>\n",
       "      <th>4</th>\n",
       "      <td>2</td>\n",
       "      <td>0</td>\n",
       "      <td>1</td>\n",
       "      <td>0</td>\n",
       "    </tr>\n",
       "    <tr>\n",
       "      <th>...</th>\n",
       "      <td>...</td>\n",
       "      <td>...</td>\n",
       "      <td>...</td>\n",
       "      <td>...</td>\n",
       "    </tr>\n",
       "    <tr>\n",
       "      <th>307</th>\n",
       "      <td>1</td>\n",
       "      <td>1</td>\n",
       "      <td>0</td>\n",
       "      <td>0</td>\n",
       "    </tr>\n",
       "    <tr>\n",
       "      <th>308</th>\n",
       "      <td>1</td>\n",
       "      <td>1</td>\n",
       "      <td>0</td>\n",
       "      <td>0</td>\n",
       "    </tr>\n",
       "    <tr>\n",
       "      <th>309</th>\n",
       "      <td>1</td>\n",
       "      <td>1</td>\n",
       "      <td>0</td>\n",
       "      <td>0</td>\n",
       "    </tr>\n",
       "    <tr>\n",
       "      <th>310</th>\n",
       "      <td>2</td>\n",
       "      <td>0</td>\n",
       "      <td>1</td>\n",
       "      <td>0</td>\n",
       "    </tr>\n",
       "    <tr>\n",
       "      <th>311</th>\n",
       "      <td>2</td>\n",
       "      <td>1</td>\n",
       "      <td>1</td>\n",
       "      <td>1</td>\n",
       "    </tr>\n",
       "  </tbody>\n",
       "</table>\n",
       "<p>312 rows × 4 columns</p>\n",
       "</div>"
      ],
      "text/plain": [
       "     Avaria  Fumo  Falta de força  Dificuldade em pegar\n",
       "0         3     1               0                     1\n",
       "1         1     1               1                     0\n",
       "2         1     1               0                     0\n",
       "3         2     1               1                     0\n",
       "4         2     0               1                     0\n",
       "..      ...   ...             ...                   ...\n",
       "307       1     1               0                     0\n",
       "308       1     1               0                     0\n",
       "309       1     1               0                     0\n",
       "310       2     0               1                     0\n",
       "311       2     1               1                     1\n",
       "\n",
       "[312 rows x 4 columns]"
      ]
     },
     "execution_count": 6,
     "metadata": {},
     "output_type": "execute_result"
    }
   ],
   "source": [
    "df"
   ]
  },
  {
   "cell_type": "code",
   "execution_count": 18,
   "id": "0b7e4ee3",
   "metadata": {},
   "outputs": [
    {
     "name": "stdout",
     "output_type": "stream",
     "text": [
      "Count(Injetores):         76\n",
      "Count(Pistons):           113\n",
      "Count(Problema Eletrico): 123\n",
      "\n",
      "Nº of rows: 312\n"
     ]
    }
   ],
   "source": [
    "n_injetores      = df[df.Avaria == 1].shape[0] # or use df['Avaria'].tolist().count(1)\n",
    "n_pistons        = df[df.Avaria == 2].shape[0] \n",
    "n_probl_eletrico = df[df.Avaria == 3].shape[0] \n",
    "n_rows           = df.shape[0]\n",
    "\n",
    "print('Count(Injetores):         ' + str(n_injetores))\n",
    "print('Count(Pistons):           ' + str(n_pistons))\n",
    "print('Count(Problema Eletrico): ' + str(n_probl_eletrico))\n",
    "print('\\nNº of rows: ' + str(n_rows))"
   ]
  },
  {
   "cell_type": "markdown",
   "id": "66902f34",
   "metadata": {},
   "source": [
    "## P(A)"
   ]
  },
  {
   "cell_type": "code",
   "execution_count": 27,
   "id": "a2f60257",
   "metadata": {},
   "outputs": [
    {
     "name": "stdout",
     "output_type": "stream",
     "text": [
      "P(Injetores):         0.24358974358974358\n",
      "P(Pistons):           0.36217948717948717\n",
      "P(Problema Eletrico): 0.3942307692307692\n",
      "\n",
      "Lista de probabilidades da Avaria: [0.24358974358974358, 0.36217948717948717, 0.3942307692307692]\n"
     ]
    }
   ],
   "source": [
    "prob_injetores      = n_injetores/n_rows\n",
    "prob_pistons        = n_pistons/n_rows\n",
    "prob_probl_eletrico = n_probl_eletrico/n_rows\n",
    "\n",
    "prob_avaria = []\n",
    "prob_avaria.append(prob_injetores); prob_avaria.append(prob_pistons); prob_avaria.append(prob_probl_eletrico)\n",
    "\n",
    "print('P(Injetores):         ' + str(prob_injetores))\n",
    "print('P(Pistons):           ' + str(prob_pistons))\n",
    "print('P(Problema Eletrico): ' + str(prob_probl_eletrico))\n",
    "\n",
    "print('\\nLista de probabilidades da Avaria: ' + str(prob_avaria))"
   ]
  },
  {
   "cell_type": "code",
   "execution_count": 30,
   "id": "8a7c467a",
   "metadata": {},
   "outputs": [],
   "source": [
    "df_final = pd.DataFrame(columns = ['Avaria', 'P(A)', 'P(Fumo|Problema)', 'P(Falta de força|Problema)', 'P(Dificuldade em pegar|Problema)'])"
   ]
  },
  {
   "cell_type": "code",
   "execution_count": 31,
   "id": "57f255a3",
   "metadata": {},
   "outputs": [
    {
     "data": {
      "text/html": [
       "<div>\n",
       "<style scoped>\n",
       "    .dataframe tbody tr th:only-of-type {\n",
       "        vertical-align: middle;\n",
       "    }\n",
       "\n",
       "    .dataframe tbody tr th {\n",
       "        vertical-align: top;\n",
       "    }\n",
       "\n",
       "    .dataframe thead th {\n",
       "        text-align: right;\n",
       "    }\n",
       "</style>\n",
       "<table border=\"1\" class=\"dataframe\">\n",
       "  <thead>\n",
       "    <tr style=\"text-align: right;\">\n",
       "      <th></th>\n",
       "      <th>Avaria</th>\n",
       "      <th>P(A)</th>\n",
       "      <th>P(Fumo|Problema)</th>\n",
       "      <th>P(Falta de força|Problema)</th>\n",
       "      <th>P(Dificuldade em pegar|Problema)</th>\n",
       "    </tr>\n",
       "  </thead>\n",
       "  <tbody>\n",
       "  </tbody>\n",
       "</table>\n",
       "</div>"
      ],
      "text/plain": [
       "Empty DataFrame\n",
       "Columns: [Avaria, P(A), P(Fumo|Problema), P(Falta de força|Problema), P(Dificuldade em pegar|Problema)]\n",
       "Index: []"
      ]
     },
     "execution_count": 31,
     "metadata": {},
     "output_type": "execute_result"
    }
   ],
   "source": [
    "df_final"
   ]
  },
  {
   "cell_type": "code",
   "execution_count": 33,
   "id": "437bbd2e",
   "metadata": {},
   "outputs": [
    {
     "data": {
      "text/html": [
       "<div>\n",
       "<style scoped>\n",
       "    .dataframe tbody tr th:only-of-type {\n",
       "        vertical-align: middle;\n",
       "    }\n",
       "\n",
       "    .dataframe tbody tr th {\n",
       "        vertical-align: top;\n",
       "    }\n",
       "\n",
       "    .dataframe thead th {\n",
       "        text-align: right;\n",
       "    }\n",
       "</style>\n",
       "<table border=\"1\" class=\"dataframe\">\n",
       "  <thead>\n",
       "    <tr style=\"text-align: right;\">\n",
       "      <th></th>\n",
       "      <th>Avaria</th>\n",
       "      <th>P(A)</th>\n",
       "      <th>P(Fumo|Problema)</th>\n",
       "      <th>P(Falta de força|Problema)</th>\n",
       "      <th>P(Dificuldade em pegar|Problema)</th>\n",
       "    </tr>\n",
       "  </thead>\n",
       "  <tbody>\n",
       "    <tr>\n",
       "      <th>0</th>\n",
       "      <td>Injetores</td>\n",
       "      <td>0.243590</td>\n",
       "      <td>NaN</td>\n",
       "      <td>NaN</td>\n",
       "      <td>NaN</td>\n",
       "    </tr>\n",
       "    <tr>\n",
       "      <th>1</th>\n",
       "      <td>Pistons</td>\n",
       "      <td>0.362179</td>\n",
       "      <td>NaN</td>\n",
       "      <td>NaN</td>\n",
       "      <td>NaN</td>\n",
       "    </tr>\n",
       "    <tr>\n",
       "      <th>2</th>\n",
       "      <td>Problema Eletrico</td>\n",
       "      <td>0.394231</td>\n",
       "      <td>NaN</td>\n",
       "      <td>NaN</td>\n",
       "      <td>NaN</td>\n",
       "    </tr>\n",
       "  </tbody>\n",
       "</table>\n",
       "</div>"
      ],
      "text/plain": [
       "              Avaria      P(A) P(Fumo|Problema) P(Falta de força|Problema)  \\\n",
       "0          Injetores  0.243590              NaN                        NaN   \n",
       "1            Pistons  0.362179              NaN                        NaN   \n",
       "2  Problema Eletrico  0.394231              NaN                        NaN   \n",
       "\n",
       "  P(Dificuldade em pegar|Problema)  \n",
       "0                              NaN  \n",
       "1                              NaN  \n",
       "2                              NaN  "
      ]
     },
     "execution_count": 33,
     "metadata": {},
     "output_type": "execute_result"
    }
   ],
   "source": [
    "df_final['P(A)']   = prob_avaria\n",
    "df_final['Avaria'] = ['Injetores', 'Pistons', 'Problema Eletrico'] \n",
    "df_final"
   ]
  },
  {
   "cell_type": "markdown",
   "id": "7f7166ea",
   "metadata": {},
   "source": [
    "## P(Sintoma|Problema)"
   ]
  },
  {
   "cell_type": "code",
   "execution_count": 42,
   "id": "fa0cef10",
   "metadata": {},
   "outputs": [],
   "source": [
    "df_injetores      = df.loc[df['Avaria'] == 1]\n",
    "df_pistons        = df.loc[df['Avaria'] == 2]\n",
    "df_probl_eletrico = df.loc[df['Avaria'] == 3]"
   ]
  },
  {
   "cell_type": "code",
   "execution_count": 38,
   "id": "c0dd061a",
   "metadata": {},
   "outputs": [
    {
     "data": {
      "text/plain": [
       "(76, 4)"
      ]
     },
     "execution_count": 38,
     "metadata": {},
     "output_type": "execute_result"
    }
   ],
   "source": [
    "df_injetores.shape"
   ]
  },
  {
   "cell_type": "code",
   "execution_count": 39,
   "id": "6ef91e6b",
   "metadata": {},
   "outputs": [
    {
     "data": {
      "text/plain": [
       "(113, 4)"
      ]
     },
     "execution_count": 39,
     "metadata": {},
     "output_type": "execute_result"
    }
   ],
   "source": [
    "df_pistons.shape"
   ]
  },
  {
   "cell_type": "code",
   "execution_count": 40,
   "id": "fbc5296f",
   "metadata": {},
   "outputs": [
    {
     "data": {
      "text/plain": [
       "(123, 4)"
      ]
     },
     "execution_count": 40,
     "metadata": {},
     "output_type": "execute_result"
    }
   ],
   "source": [
    "df_probl_eletrico.shape"
   ]
  },
  {
   "cell_type": "markdown",
   "id": "cca31d29",
   "metadata": {},
   "source": [
    "### P(Fumo|Problema)"
   ]
  },
  {
   "cell_type": "code",
   "execution_count": 44,
   "id": "d7efb116",
   "metadata": {},
   "outputs": [
    {
     "name": "stdout",
     "output_type": "stream",
     "text": [
      "P(Fumo|Injetores):         0.9078947368421053\n",
      "P(Fumo|Pistons):           0.6106194690265486\n",
      "P(Fumo|Problema Eletrico): 0.14634146341463414\n",
      "\n",
      "Lista de probabilidades Fumo|Problema: [0.9078947368421053, 0.6106194690265486, 0.14634146341463414]\n"
     ]
    }
   ],
   "source": [
    "prob_fumo_injetores      = df_injetores['Fumo'].sum()/n_injetores\n",
    "prob_fumo_pistons        = df_pistons['Fumo'].sum()/n_pistons\n",
    "prob_fumo_probl_eletrico = df_probl_eletrico['Fumo'].sum()/n_probl_eletrico\n",
    "\n",
    "prob_fumo_problema = []\n",
    "prob_fumo_problema.append(prob_fumo_injetores)\n",
    "prob_fumo_problema.append(prob_fumo_pistons)\n",
    "prob_fumo_problema.append(prob_fumo_probl_eletrico)\n",
    "\n",
    "print('P(Fumo|Injetores):         ' + str(prob_fumo_injetores))\n",
    "print('P(Fumo|Pistons):           ' + str(prob_fumo_pistons))\n",
    "print('P(Fumo|Problema Eletrico): ' + str(prob_fumo_probl_eletrico))\n",
    "\n",
    "print('\\nLista de probabilidades Fumo|Problema: ' + str(prob_fumo_problema))"
   ]
  },
  {
   "cell_type": "code",
   "execution_count": 46,
   "id": "57e57712",
   "metadata": {},
   "outputs": [
    {
     "data": {
      "text/html": [
       "<div>\n",
       "<style scoped>\n",
       "    .dataframe tbody tr th:only-of-type {\n",
       "        vertical-align: middle;\n",
       "    }\n",
       "\n",
       "    .dataframe tbody tr th {\n",
       "        vertical-align: top;\n",
       "    }\n",
       "\n",
       "    .dataframe thead th {\n",
       "        text-align: right;\n",
       "    }\n",
       "</style>\n",
       "<table border=\"1\" class=\"dataframe\">\n",
       "  <thead>\n",
       "    <tr style=\"text-align: right;\">\n",
       "      <th></th>\n",
       "      <th>Avaria</th>\n",
       "      <th>P(A)</th>\n",
       "      <th>P(Fumo|Problema)</th>\n",
       "      <th>P(Falta de força|Problema)</th>\n",
       "      <th>P(Dificuldade em pegar|Problema)</th>\n",
       "    </tr>\n",
       "  </thead>\n",
       "  <tbody>\n",
       "    <tr>\n",
       "      <th>0</th>\n",
       "      <td>Injetores</td>\n",
       "      <td>0.243590</td>\n",
       "      <td>0.907895</td>\n",
       "      <td>NaN</td>\n",
       "      <td>NaN</td>\n",
       "    </tr>\n",
       "    <tr>\n",
       "      <th>1</th>\n",
       "      <td>Pistons</td>\n",
       "      <td>0.362179</td>\n",
       "      <td>0.610619</td>\n",
       "      <td>NaN</td>\n",
       "      <td>NaN</td>\n",
       "    </tr>\n",
       "    <tr>\n",
       "      <th>2</th>\n",
       "      <td>Problema Eletrico</td>\n",
       "      <td>0.394231</td>\n",
       "      <td>0.146341</td>\n",
       "      <td>NaN</td>\n",
       "      <td>NaN</td>\n",
       "    </tr>\n",
       "  </tbody>\n",
       "</table>\n",
       "</div>"
      ],
      "text/plain": [
       "              Avaria      P(A)  P(Fumo|Problema) P(Falta de força|Problema)  \\\n",
       "0          Injetores  0.243590          0.907895                        NaN   \n",
       "1            Pistons  0.362179          0.610619                        NaN   \n",
       "2  Problema Eletrico  0.394231          0.146341                        NaN   \n",
       "\n",
       "  P(Dificuldade em pegar|Problema)  \n",
       "0                              NaN  \n",
       "1                              NaN  \n",
       "2                              NaN  "
      ]
     },
     "execution_count": 46,
     "metadata": {},
     "output_type": "execute_result"
    }
   ],
   "source": [
    "df_final['P(Fumo|Problema)'] = prob_fumo_problema\n",
    "df_final"
   ]
  },
  {
   "cell_type": "markdown",
   "id": "370fdd79",
   "metadata": {},
   "source": [
    "### P(Falta de Forca|Problema)"
   ]
  },
  {
   "cell_type": "code",
   "execution_count": 49,
   "id": "2d49d725",
   "metadata": {},
   "outputs": [
    {
     "name": "stdout",
     "output_type": "stream",
     "text": [
      "P(Falta de força|Injetores):         0.2631578947368421\n",
      "P(Falta de força|Pistons):           0.8761061946902655\n",
      "P(Falta de força|Problema Eletrico): 0.10569105691056911\n",
      "\n",
      "Lista de probabilidades Falta de força|Problema: [0.2631578947368421, 0.8761061946902655, 0.10569105691056911]\n"
     ]
    }
   ],
   "source": [
    "prob_falta_forca_injetores      = df_injetores['Falta de força'].sum()/n_injetores\n",
    "prob_falta_forca_pistons        = df_pistons['Falta de força'].sum()/n_pistons\n",
    "prob_falta_forca_probl_eletrico = df_probl_eletrico['Falta de força'].sum()/n_probl_eletrico\n",
    "\n",
    "prob_falta_forca_problema = []\n",
    "prob_falta_forca_problema.append(prob_falta_forca_injetores)\n",
    "prob_falta_forca_problema.append(prob_falta_forca_pistons)\n",
    "prob_falta_forca_problema.append(prob_falta_forca_probl_eletrico)\n",
    "\n",
    "print('P(Falta de força|Injetores):         ' + str(prob_falta_forca_injetores))\n",
    "print('P(Falta de força|Pistons):           ' + str(prob_falta_forca_pistons))\n",
    "print('P(Falta de força|Problema Eletrico): ' + str(prob_falta_forca_probl_eletrico))\n",
    "\n",
    "print('\\nLista de probabilidades Falta de força|Problema: ' + str(prob_falta_forca_problema))"
   ]
  },
  {
   "cell_type": "code",
   "execution_count": 50,
   "id": "6a0f5935",
   "metadata": {},
   "outputs": [
    {
     "data": {
      "text/html": [
       "<div>\n",
       "<style scoped>\n",
       "    .dataframe tbody tr th:only-of-type {\n",
       "        vertical-align: middle;\n",
       "    }\n",
       "\n",
       "    .dataframe tbody tr th {\n",
       "        vertical-align: top;\n",
       "    }\n",
       "\n",
       "    .dataframe thead th {\n",
       "        text-align: right;\n",
       "    }\n",
       "</style>\n",
       "<table border=\"1\" class=\"dataframe\">\n",
       "  <thead>\n",
       "    <tr style=\"text-align: right;\">\n",
       "      <th></th>\n",
       "      <th>Avaria</th>\n",
       "      <th>P(A)</th>\n",
       "      <th>P(Fumo|Problema)</th>\n",
       "      <th>P(Falta de força|Problema)</th>\n",
       "      <th>P(Dificuldade em pegar|Problema)</th>\n",
       "    </tr>\n",
       "  </thead>\n",
       "  <tbody>\n",
       "    <tr>\n",
       "      <th>0</th>\n",
       "      <td>Injetores</td>\n",
       "      <td>0.243590</td>\n",
       "      <td>0.907895</td>\n",
       "      <td>0.263158</td>\n",
       "      <td>NaN</td>\n",
       "    </tr>\n",
       "    <tr>\n",
       "      <th>1</th>\n",
       "      <td>Pistons</td>\n",
       "      <td>0.362179</td>\n",
       "      <td>0.610619</td>\n",
       "      <td>0.876106</td>\n",
       "      <td>NaN</td>\n",
       "    </tr>\n",
       "    <tr>\n",
       "      <th>2</th>\n",
       "      <td>Problema Eletrico</td>\n",
       "      <td>0.394231</td>\n",
       "      <td>0.146341</td>\n",
       "      <td>0.105691</td>\n",
       "      <td>NaN</td>\n",
       "    </tr>\n",
       "  </tbody>\n",
       "</table>\n",
       "</div>"
      ],
      "text/plain": [
       "              Avaria      P(A)  P(Fumo|Problema)  P(Falta de força|Problema)  \\\n",
       "0          Injetores  0.243590          0.907895                    0.263158   \n",
       "1            Pistons  0.362179          0.610619                    0.876106   \n",
       "2  Problema Eletrico  0.394231          0.146341                    0.105691   \n",
       "\n",
       "  P(Dificuldade em pegar|Problema)  \n",
       "0                              NaN  \n",
       "1                              NaN  \n",
       "2                              NaN  "
      ]
     },
     "execution_count": 50,
     "metadata": {},
     "output_type": "execute_result"
    }
   ],
   "source": [
    "df_final['P(Falta de força|Problema)'] = prob_falta_forca_problema\n",
    "df_final"
   ]
  },
  {
   "cell_type": "markdown",
   "id": "926caec2",
   "metadata": {},
   "source": [
    "### P(Dificuldade em pegar|Problema)"
   ]
  },
  {
   "cell_type": "code",
   "execution_count": 56,
   "id": "a0121c0a",
   "metadata": {},
   "outputs": [
    {
     "name": "stdout",
     "output_type": "stream",
     "text": [
      "P(Dificuldade em pegar|Injetores):         0.3026315789473684\n",
      "P(Dificuldade em pegar|Pistons):           0.19469026548672566\n",
      "P(Dificuldade em pegar|Problema Eletrico): 0.7967479674796748\n",
      "\n",
      "Lista de probabilidades Dificuldade em pegar|Problema: [0.3026315789473684, 0.19469026548672566, 0.7967479674796748]\n"
     ]
    }
   ],
   "source": [
    "prob_dificuldade_pegar_injetores      = df_injetores['Dificuldade em pegar'].sum()/n_injetores\n",
    "prob_dificuldade_pegar_pistons        = df_pistons['Dificuldade em pegar'].sum()/n_pistons\n",
    "prob_dificuldade_pegar_probl_eletrico = df_probl_eletrico['Dificuldade em pegar'].sum()/n_probl_eletrico\n",
    "\n",
    "prob_dificuldade_pegar_problema = []\n",
    "prob_dificuldade_pegar_problema.append(prob_dificuldade_pegar_injetores)\n",
    "prob_dificuldade_pegar_problema.append(prob_dificuldade_pegar_pistons)\n",
    "prob_dificuldade_pegar_problema.append(prob_dificuldade_pegar_probl_eletrico)\n",
    "\n",
    "print('P(Dificuldade em pegar|Injetores):         ' + str(prob_dificuldade_pegar_injetores))\n",
    "print('P(Dificuldade em pegar|Pistons):           ' + str(prob_dificuldade_pegar_pistons))\n",
    "print('P(Dificuldade em pegar|Problema Eletrico): ' + str(prob_dificuldade_pegar_probl_eletrico))\n",
    "\n",
    "print('\\nLista de probabilidades Dificuldade em pegar|Problema: ' + str(prob_dificuldade_pegar_problema))"
   ]
  },
  {
   "cell_type": "code",
   "execution_count": 57,
   "id": "bc3a13d7",
   "metadata": {},
   "outputs": [
    {
     "data": {
      "text/html": [
       "<div>\n",
       "<style scoped>\n",
       "    .dataframe tbody tr th:only-of-type {\n",
       "        vertical-align: middle;\n",
       "    }\n",
       "\n",
       "    .dataframe tbody tr th {\n",
       "        vertical-align: top;\n",
       "    }\n",
       "\n",
       "    .dataframe thead th {\n",
       "        text-align: right;\n",
       "    }\n",
       "</style>\n",
       "<table border=\"1\" class=\"dataframe\">\n",
       "  <thead>\n",
       "    <tr style=\"text-align: right;\">\n",
       "      <th></th>\n",
       "      <th>Avaria</th>\n",
       "      <th>P(A)</th>\n",
       "      <th>P(Fumo|Problema)</th>\n",
       "      <th>P(Falta de força|Problema)</th>\n",
       "      <th>P(Dificuldade em pegar|Problema)</th>\n",
       "    </tr>\n",
       "  </thead>\n",
       "  <tbody>\n",
       "    <tr>\n",
       "      <th>0</th>\n",
       "      <td>Injetores</td>\n",
       "      <td>0.243590</td>\n",
       "      <td>0.907895</td>\n",
       "      <td>0.263158</td>\n",
       "      <td>0.302632</td>\n",
       "    </tr>\n",
       "    <tr>\n",
       "      <th>1</th>\n",
       "      <td>Pistons</td>\n",
       "      <td>0.362179</td>\n",
       "      <td>0.610619</td>\n",
       "      <td>0.876106</td>\n",
       "      <td>0.194690</td>\n",
       "    </tr>\n",
       "    <tr>\n",
       "      <th>2</th>\n",
       "      <td>Problema Eletrico</td>\n",
       "      <td>0.394231</td>\n",
       "      <td>0.146341</td>\n",
       "      <td>0.105691</td>\n",
       "      <td>0.796748</td>\n",
       "    </tr>\n",
       "  </tbody>\n",
       "</table>\n",
       "</div>"
      ],
      "text/plain": [
       "              Avaria      P(A)  P(Fumo|Problema)  P(Falta de força|Problema)  \\\n",
       "0          Injetores  0.243590          0.907895                    0.263158   \n",
       "1            Pistons  0.362179          0.610619                    0.876106   \n",
       "2  Problema Eletrico  0.394231          0.146341                    0.105691   \n",
       "\n",
       "   P(Dificuldade em pegar|Problema)  \n",
       "0                          0.302632  \n",
       "1                          0.194690  \n",
       "2                          0.796748  "
      ]
     },
     "execution_count": 57,
     "metadata": {},
     "output_type": "execute_result"
    }
   ],
   "source": [
    "df_final['P(Dificuldade em pegar|Problema)'] = prob_dificuldade_pegar_problema\n",
    "df_final"
   ]
  },
  {
   "cell_type": "markdown",
   "id": "c4ffda03",
   "metadata": {},
   "source": [
    "# FALTA ARVORE DE DECISAO"
   ]
  }
 ],
 "metadata": {
  "kernelspec": {
   "display_name": "Python 3",
   "language": "python",
   "name": "python3"
  },
  "language_info": {
   "codemirror_mode": {
    "name": "ipython",
    "version": 3
   },
   "file_extension": ".py",
   "mimetype": "text/x-python",
   "name": "python",
   "nbconvert_exporter": "python",
   "pygments_lexer": "ipython3",
   "version": "3.8.8"
  }
 },
 "nbformat": 4,
 "nbformat_minor": 5
}
